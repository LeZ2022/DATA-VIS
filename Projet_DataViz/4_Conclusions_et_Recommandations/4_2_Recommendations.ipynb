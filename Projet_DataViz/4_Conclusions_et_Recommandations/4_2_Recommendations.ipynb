{
 "cells": [
  {
   "cell_type": "markdown",
   "metadata": {},
   "source": [
    "<!DOCTYPE html>\n",
    "<html lang=\"fr\">\n",
    "<head>\n",
    "    <meta charset=\"UTF-8\">\n",
    "    <meta name=\"viewport\" content=\"width=device-width, initial-scale=1.0\">\n",
    "    <title>Projet Data Visualisation</title>\n",
    "    <style>\n",
    "        body {\n",
    "            font-family: Arial, sans-serif;\n",
    "            margin: 20px;\n",
    "            background-color: #f9f9f9;\n",
    "            color: #333;\n",
    "        }\n",
    "        h1 {\n",
    "            text-align: center;\n",
    "            font-size: 3rem;\n",
    "            color: #2c3e50;\n",
    "            margin-bottom: 10px;\n",
    "        }\n",
    "        h2 {\n",
    "            text-align: center;\n",
    "            font-size: 2rem;\n",
    "            color: #2980b9;\n",
    "        }\n",
    "        p {\n",
    "            text-align: center;\n",
    "            font-size: 1.2rem;\n",
    "            margin: 10px auto;\n",
    "            line-height: 1.6;\n",
    "            color: black;\n",
    "        }\n",
    "        .container {\n",
    "            width: 80%;\n",
    "            margin: 50px auto;\n",
    "            padding: 20px;\n",
    "            background-color: #ffffff;\n",
    "            border: 1px solid #dcdcdc;\n",
    "            border-radius: 10px;\n",
    "            box-shadow: 0 4px 8px rgba(0, 0, 0, 0.1);\n",
    "        }\n",
    "        .highlight {\n",
    "            font-weight: bold;\n",
    "            color: #e74c3c;\n",
    "        }\n",
    "    </style>\n",
    "</head>\n",
    "<body>\n",
    "    <div class=\"container\">\n",
    "        <h1>Projet Data Visualisation</h1>\n",
    "        <h2>Cyril Kfouri, Mathias Robert, Maxime Maeder, Luc Renaud, Maxime Lambert</h2>\n",
    "        <p><span class=\"highlight\">Group 2 - Data and AI</span></p>\n",
    "        <h2>Données Foncières</h2>\n",
    "        <p><strong>Objectif:</strong> Solution pour un investisseur immobilier.</p>\n",
    "    </div>\n",
    "</body>\n",
    "</html>\n"
   ]
  },
  {
   "cell_type": "markdown",
   "metadata": {},
   "source": [
    "<h1 style=\"color: #e74c3c; text-align: left; margin-bottom: 50px;\">4 - Recommendations</h1>\n",
    "<h2 style=\"text-align: center; margin-top: 20px; color: #3498db;\">A - </h2>"
   ]
  },
  {
   "cell_type": "code",
   "execution_count": 1,
   "metadata": {},
   "outputs": [],
   "source": [
    "import pandas as pd"
   ]
  },
  {
   "cell_type": "code",
   "execution_count": 2,
   "metadata": {},
   "outputs": [],
   "source": [
    "file_path = '../CSV/données_foncières_france_2024.csv'\n",
    "df = pd.read_csv(file_path, low_memory=False)"
   ]
  }
 ],
 "metadata": {
  "kernelspec": {
   "display_name": "base",
   "language": "python",
   "name": "python3"
  },
  "language_info": {
   "codemirror_mode": {
    "name": "ipython",
    "version": 3
   },
   "file_extension": ".py",
   "mimetype": "text/x-python",
   "name": "python",
   "nbconvert_exporter": "python",
   "pygments_lexer": "ipython3",
   "version": "3.12.3"
  }
 },
 "nbformat": 4,
 "nbformat_minor": 2
}
