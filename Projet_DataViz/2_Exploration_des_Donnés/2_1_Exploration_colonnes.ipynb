{
 "cells": [
  {
   "cell_type": "markdown",
   "metadata": {},
   "source": [
    "<!DOCTYPE html>\n",
    "<html lang=\"fr\">\n",
    "<head>\n",
    "    <meta charset=\"UTF-8\">\n",
    "    <meta name=\"viewport\" content=\"width=device-width, initial-scale=1.0\">\n",
    "    <title>Projet Data Visualisation</title>\n",
    "    <style>\n",
    "        body {\n",
    "            font-family: Arial, sans-serif;\n",
    "            margin: 20px;\n",
    "            background-color: #f9f9f9;\n",
    "            color: #333;\n",
    "        }\n",
    "        h1 {\n",
    "            text-align: center;\n",
    "            font-size: 3rem;\n",
    "            color: #2c3e50;\n",
    "            margin-bottom: 10px;\n",
    "        }\n",
    "        h2 {\n",
    "            text-align: center;\n",
    "            font-size: 2rem;\n",
    "            color: #2980b9;\n",
    "        }\n",
    "        p {\n",
    "            text-align: center;\n",
    "            font-size: 1.2rem;\n",
    "            margin: 10px auto;\n",
    "            line-height: 1.6;\n",
    "            color: black;\n",
    "        }\n",
    "        .container {\n",
    "            width: 80%;\n",
    "            margin: 50px auto;\n",
    "            padding: 20px;\n",
    "            background-color: #ffffff;\n",
    "            border: 1px solid #dcdcdc;\n",
    "            border-radius: 10px;\n",
    "            box-shadow: 0 4px 8px rgba(0, 0, 0, 0.1);\n",
    "        }\n",
    "        .highlight {\n",
    "            font-weight: bold;\n",
    "            color: #e74c3c;\n",
    "        }\n",
    "    </style>\n",
    "</head>\n",
    "<body>\n",
    "    <div class=\"container\">\n",
    "        <h1>Projet Data Visualisation</h1>\n",
    "        <h2>Cyril Kfouri, Mathias Robert, Maxime Maeder, Luc Renaud, Maxime Lambert</h2>\n",
    "        <p><span class=\"highlight\">Group 2 - Data and AI</span></p>\n",
    "        <h2>Données Foncières</h2>\n",
    "        <p><strong>Objectif:</strong> Solution pour un investisseur immobilier.</p>\n",
    "    </div>\n",
    "</body>\n",
    "</html>\n"
   ]
  },
  {
   "cell_type": "markdown",
   "metadata": {},
   "source": [
    "<h1 style=\"color: #e74c3c; text-align: left; margin-bottom: 50px;\">2 - Exploration statistique des colonnes</h1>\n",
    "<h2 style=\"text-align: center; margin-top: 20px; color: #3498db;\">A - Découverte du nouveau DataFrame</h2>"
   ]
  },
  {
   "cell_type": "code",
   "execution_count": 2,
   "metadata": {},
   "outputs": [],
   "source": [
    "import pandas as pd"
   ]
  },
  {
   "cell_type": "code",
   "execution_count": 3,
   "metadata": {},
   "outputs": [],
   "source": [
    "file_path = '../CSV/données_foncières_france_2024.csv'\n",
    "df = pd.read_csv(file_path, low_memory=False)"
   ]
  },
  {
   "cell_type": "code",
   "execution_count": 4,
   "metadata": {},
   "outputs": [
    {
     "data": {
      "text/html": [
       "<div>\n",
       "<style scoped>\n",
       "    .dataframe tbody tr th:only-of-type {\n",
       "        vertical-align: middle;\n",
       "    }\n",
       "\n",
       "    .dataframe tbody tr th {\n",
       "        vertical-align: top;\n",
       "    }\n",
       "\n",
       "    .dataframe thead th {\n",
       "        text-align: right;\n",
       "    }\n",
       "</style>\n",
       "<table border=\"1\" class=\"dataframe\">\n",
       "  <thead>\n",
       "    <tr style=\"text-align: right;\">\n",
       "      <th></th>\n",
       "      <th>id_mutation</th>\n",
       "      <th>date_mutation</th>\n",
       "      <th>numero_disposition</th>\n",
       "      <th>nature_mutation</th>\n",
       "      <th>adresse_numero</th>\n",
       "      <th>adresse_nom_voie</th>\n",
       "      <th>nom_commune</th>\n",
       "      <th>code_departement</th>\n",
       "      <th>nombre_lots</th>\n",
       "      <th>type_local</th>\n",
       "      <th>...</th>\n",
       "      <th>surface_terrain</th>\n",
       "      <th>nombre_pieces_principales</th>\n",
       "      <th>nature_culture</th>\n",
       "      <th>nature_culture_speciale</th>\n",
       "      <th>longitude</th>\n",
       "      <th>latitude</th>\n",
       "      <th>valeur_fonciere</th>\n",
       "      <th>surface_tot_lots</th>\n",
       "      <th>nombre_dependances</th>\n",
       "      <th>prix_m2</th>\n",
       "    </tr>\n",
       "  </thead>\n",
       "  <tbody>\n",
       "    <tr>\n",
       "      <th>0</th>\n",
       "      <td>2024-1</td>\n",
       "      <td>2024-01-02</td>\n",
       "      <td>1</td>\n",
       "      <td>Vente</td>\n",
       "      <td>NaN</td>\n",
       "      <td>LE DELIVRE</td>\n",
       "      <td>Chaley</td>\n",
       "      <td>01</td>\n",
       "      <td>0</td>\n",
       "      <td>Terre Agricole</td>\n",
       "      <td>...</td>\n",
       "      <td>99.0</td>\n",
       "      <td>NaN</td>\n",
       "      <td>prés</td>\n",
       "      <td>NaN</td>\n",
       "      <td>5.530952</td>\n",
       "      <td>45.952439</td>\n",
       "      <td>346.5</td>\n",
       "      <td>0.0</td>\n",
       "      <td>0</td>\n",
       "      <td>3.500000</td>\n",
       "    </tr>\n",
       "    <tr>\n",
       "      <th>1</th>\n",
       "      <td>2024-2</td>\n",
       "      <td>2024-01-03</td>\n",
       "      <td>2</td>\n",
       "      <td>Vente</td>\n",
       "      <td>NaN</td>\n",
       "      <td>CHEVRY DESSOUS</td>\n",
       "      <td>Chevry</td>\n",
       "      <td>01</td>\n",
       "      <td>0</td>\n",
       "      <td>Terre Agricole</td>\n",
       "      <td>...</td>\n",
       "      <td>115.0</td>\n",
       "      <td>NaN</td>\n",
       "      <td>sols</td>\n",
       "      <td>NaN</td>\n",
       "      <td>6.043339</td>\n",
       "      <td>46.282256</td>\n",
       "      <td>10000.0</td>\n",
       "      <td>0.0</td>\n",
       "      <td>0</td>\n",
       "      <td>86.956522</td>\n",
       "    </tr>\n",
       "    <tr>\n",
       "      <th>2</th>\n",
       "      <td>2024-3</td>\n",
       "      <td>2024-01-08</td>\n",
       "      <td>1</td>\n",
       "      <td>Vente</td>\n",
       "      <td>NaN</td>\n",
       "      <td>PIN HAMEAU</td>\n",
       "      <td>Laiz</td>\n",
       "      <td>01</td>\n",
       "      <td>0</td>\n",
       "      <td>Terre Agricole</td>\n",
       "      <td>...</td>\n",
       "      <td>497.0</td>\n",
       "      <td>NaN</td>\n",
       "      <td>sols</td>\n",
       "      <td>NaN</td>\n",
       "      <td>4.911143</td>\n",
       "      <td>46.247235</td>\n",
       "      <td>249000.0</td>\n",
       "      <td>0.0</td>\n",
       "      <td>0</td>\n",
       "      <td>501.006036</td>\n",
       "    </tr>\n",
       "    <tr>\n",
       "      <th>3</th>\n",
       "      <td>2024-4</td>\n",
       "      <td>2024-01-03</td>\n",
       "      <td>1</td>\n",
       "      <td>Vente</td>\n",
       "      <td>29.0</td>\n",
       "      <td>PL DU JURA</td>\n",
       "      <td>Gex</td>\n",
       "      <td>01</td>\n",
       "      <td>2</td>\n",
       "      <td>Appartement</td>\n",
       "      <td>...</td>\n",
       "      <td>NaN</td>\n",
       "      <td>4.0</td>\n",
       "      <td>NaN</td>\n",
       "      <td>NaN</td>\n",
       "      <td>6.058695</td>\n",
       "      <td>46.332212</td>\n",
       "      <td>329500.0</td>\n",
       "      <td>0.0</td>\n",
       "      <td>3</td>\n",
       "      <td>3702.247191</td>\n",
       "    </tr>\n",
       "    <tr>\n",
       "      <th>4</th>\n",
       "      <td>2024-5</td>\n",
       "      <td>2024-01-09</td>\n",
       "      <td>1</td>\n",
       "      <td>Vente</td>\n",
       "      <td>NaN</td>\n",
       "      <td>AU CHAUME</td>\n",
       "      <td>Plateau d'Hauteville</td>\n",
       "      <td>01</td>\n",
       "      <td>0</td>\n",
       "      <td>Terrain Naturel</td>\n",
       "      <td>...</td>\n",
       "      <td>1584.0</td>\n",
       "      <td>NaN</td>\n",
       "      <td>futaies résineuses</td>\n",
       "      <td>NaN</td>\n",
       "      <td>5.548635</td>\n",
       "      <td>45.900606</td>\n",
       "      <td>20000.0</td>\n",
       "      <td>0.0</td>\n",
       "      <td>0</td>\n",
       "      <td>12.626263</td>\n",
       "    </tr>\n",
       "  </tbody>\n",
       "</table>\n",
       "<p>5 rows × 21 columns</p>\n",
       "</div>"
      ],
      "text/plain": [
       "  id_mutation date_mutation  numero_disposition nature_mutation  \\\n",
       "0      2024-1    2024-01-02                   1           Vente   \n",
       "1      2024-2    2024-01-03                   2           Vente   \n",
       "2      2024-3    2024-01-08                   1           Vente   \n",
       "3      2024-4    2024-01-03                   1           Vente   \n",
       "4      2024-5    2024-01-09                   1           Vente   \n",
       "\n",
       "   adresse_numero adresse_nom_voie           nom_commune code_departement  \\\n",
       "0             NaN       LE DELIVRE                Chaley               01   \n",
       "1             NaN   CHEVRY DESSOUS                Chevry               01   \n",
       "2             NaN       PIN HAMEAU                  Laiz               01   \n",
       "3            29.0       PL DU JURA                   Gex               01   \n",
       "4             NaN        AU CHAUME  Plateau d'Hauteville               01   \n",
       "\n",
       "   nombre_lots       type_local  ...  surface_terrain  \\\n",
       "0            0   Terre Agricole  ...             99.0   \n",
       "1            0   Terre Agricole  ...            115.0   \n",
       "2            0   Terre Agricole  ...            497.0   \n",
       "3            2      Appartement  ...              NaN   \n",
       "4            0  Terrain Naturel  ...           1584.0   \n",
       "\n",
       "   nombre_pieces_principales      nature_culture nature_culture_speciale  \\\n",
       "0                        NaN                prés                     NaN   \n",
       "1                        NaN                sols                     NaN   \n",
       "2                        NaN                sols                     NaN   \n",
       "3                        4.0                 NaN                     NaN   \n",
       "4                        NaN  futaies résineuses                     NaN   \n",
       "\n",
       "  longitude   latitude  valeur_fonciere  surface_tot_lots  nombre_dependances  \\\n",
       "0  5.530952  45.952439            346.5               0.0                   0   \n",
       "1  6.043339  46.282256          10000.0               0.0                   0   \n",
       "2  4.911143  46.247235         249000.0               0.0                   0   \n",
       "3  6.058695  46.332212         329500.0               0.0                   3   \n",
       "4  5.548635  45.900606          20000.0               0.0                   0   \n",
       "\n",
       "       prix_m2  \n",
       "0     3.500000  \n",
       "1    86.956522  \n",
       "2   501.006036  \n",
       "3  3702.247191  \n",
       "4    12.626263  \n",
       "\n",
       "[5 rows x 21 columns]"
      ]
     },
     "execution_count": 4,
     "metadata": {},
     "output_type": "execute_result"
    }
   ],
   "source": [
    "df.head()"
   ]
  },
  {
   "cell_type": "markdown",
   "metadata": {},
   "source": [
    "Comprendre a quel type de data frame nous allons devoiur traité (tailles, variables)"
   ]
  },
  {
   "cell_type": "code",
   "execution_count": 5,
   "metadata": {},
   "outputs": [
    {
     "data": {
      "text/plain": [
       "(6717060, 21)"
      ]
     },
     "execution_count": 5,
     "metadata": {},
     "output_type": "execute_result"
    }
   ],
   "source": [
    "df.shape"
   ]
  },
  {
   "cell_type": "markdown",
   "metadata": {},
   "source": [
    "<h2 style=\"text-align: center; margin-top: 20px; color: #3498db;\">B - Analyses Statistiques de toute la France</h2>"
   ]
  },
  {
   "cell_type": "markdown",
   "metadata": {},
   "source": [
    "<h1 style=\"margin-top: 20px;\">1 - Distribution des Prix</h1>\n",
    "\n",
    "On comprend que la répartition du prix va de 0.1 euro à 760 millions d'euros.\n",
    "\n",
    "Avec une moyenne de 1 200 000 euros.\n",
    "\n",
    "Écart type de 16  millions d'euros.\n",
    "\n",
    "Médiane de 143 000 euros\n",
    "\n",
    "**Or, La médiane étant beaucoup plus faible que la moyenne, cela montre que la majorité des transactions se concentrent sur des montants plus bas. Les valeurs extrêmement élevées tirent artificiellement la moyenne vers le haut.**\n",
    "\n",
    "**L'écart type élevé nous confirme que très dispersées autour de la moyenne a cause des valeurs extrêmes dans les transactions, ce qui rend la moyenne moins représentative.**"
   ]
  },
  {
   "cell_type": "code",
   "execution_count": 6,
   "metadata": {},
   "outputs": [
    {
     "data": {
      "text/plain": [
       "count    6.717060e+06\n",
       "mean     1.253728e+06\n",
       "std      1.634435e+07\n",
       "min      1.000000e-02\n",
       "25%      4.500000e+04\n",
       "50%      1.435000e+05\n",
       "75%      2.831108e+05\n",
       "max      7.620000e+08\n",
       "Name: valeur_fonciere, dtype: float64"
      ]
     },
     "execution_count": 6,
     "metadata": {},
     "output_type": "execute_result"
    }
   ],
   "source": [
    "df['valeur_fonciere'].describe()"
   ]
  },
  {
   "cell_type": "code",
   "execution_count": 16,
   "metadata": {},
   "outputs": [
    {
     "data": {
      "text/plain": [
       "143500.0"
      ]
     },
     "execution_count": 16,
     "metadata": {},
     "output_type": "execute_result"
    }
   ],
   "source": [
    "df['valeur_fonciere'].median()"
   ]
  },
  {
   "cell_type": "code",
   "execution_count": 7,
   "metadata": {},
   "outputs": [
    {
     "data": {
      "text/plain": [
       "Index(['id_mutation', 'date_mutation', 'numero_disposition', 'nature_mutation',\n",
       "       'adresse_numero', 'adresse_nom_voie', 'nom_commune', 'code_departement',\n",
       "       'nombre_lots', 'type_local', 'surface_reelle_bati', 'surface_terrain',\n",
       "       'nombre_pieces_principales', 'nature_culture',\n",
       "       'nature_culture_speciale', 'longitude', 'latitude', 'valeur_fonciere',\n",
       "       'surface_tot_lots', 'nombre_dependances', 'prix_m2'],\n",
       "      dtype='object')"
      ]
     },
     "execution_count": 7,
     "metadata": {},
     "output_type": "execute_result"
    }
   ],
   "source": [
    "df.columns"
   ]
  },
  {
   "cell_type": "code",
   "execution_count": 8,
   "metadata": {},
   "outputs": [
    {
     "data": {
      "text/plain": [
       "count    6.717060e+06\n",
       "mean     1.253728e+06\n",
       "std      1.634435e+07\n",
       "min      1.000000e-02\n",
       "25%      4.500000e+04\n",
       "50%      1.435000e+05\n",
       "75%      2.831108e+05\n",
       "max      7.620000e+08\n",
       "Name: valeur_fonciere, dtype: float64"
      ]
     },
     "execution_count": 8,
     "metadata": {},
     "output_type": "execute_result"
    }
   ],
   "source": [
    "df['valeur_fonciere'].describe()"
   ]
  },
  {
   "cell_type": "code",
   "execution_count": 9,
   "metadata": {},
   "outputs": [
    {
     "data": {
      "text/plain": [
       "count    5.469986e+06\n",
       "mean     3.163569e+03\n",
       "std      1.350290e+04\n",
       "min      1.000000e+00\n",
       "25%      2.390000e+02\n",
       "50%      6.500000e+02\n",
       "75%      2.120000e+03\n",
       "max      4.653206e+06\n",
       "Name: surface_terrain, dtype: float64"
      ]
     },
     "execution_count": 9,
     "metadata": {},
     "output_type": "execute_result"
    }
   ],
   "source": [
    "df['surface_terrain'].describe()"
   ]
  },
  {
   "cell_type": "code",
   "execution_count": 10,
   "metadata": {},
   "outputs": [
    {
     "name": "stdout",
     "output_type": "stream",
     "text": [
      "count    3.164288e+06\n",
      "mean     3.123003e+00\n",
      "std      1.819952e+00\n",
      "min      0.000000e+00\n",
      "25%      2.000000e+00\n",
      "50%      3.000000e+00\n",
      "75%      4.000000e+00\n",
      "max      9.500000e+01\n",
      "Name: nombre_pieces_principales, dtype: float64\n"
     ]
    }
   ],
   "source": [
    "df['nombre_pieces_principales'].describe()"
   ]
  },
  {
   "cell_type": "code",
   "execution_count": 11,
   "metadata": {},
   "outputs": [
    {
     "data": {
      "text/plain": [
       "count    6.717060e+06\n",
       "mean     2.481321e+03\n",
       "std      7.188253e+04\n",
       "min      0.000000e+00\n",
       "25%      0.000000e+00\n",
       "50%      0.000000e+00\n",
       "75%      2.000000e+00\n",
       "max      3.061752e+06\n",
       "Name: nombre_dependances, dtype: float64"
      ]
     },
     "execution_count": 11,
     "metadata": {},
     "output_type": "execute_result"
    }
   ],
   "source": [
    "df['nombre_dependances'].describe()"
   ]
  },
  {
   "cell_type": "code",
   "execution_count": 12,
   "metadata": {},
   "outputs": [
    {
     "data": {
      "text/plain": [
       "count    6.717060e+06\n",
       "mean     2.484371e+04\n",
       "std      6.153415e+05\n",
       "min      1.590222e-06\n",
       "25%      3.886773e+01\n",
       "50%      1.106557e+03\n",
       "75%      3.186275e+03\n",
       "max      3.372004e+08\n",
       "Name: prix_m2, dtype: float64"
      ]
     },
     "execution_count": 12,
     "metadata": {},
     "output_type": "execute_result"
    }
   ],
   "source": [
    "df['prix_m2'].describe()"
   ]
  },
  {
   "cell_type": "code",
   "execution_count": 13,
   "metadata": {},
   "outputs": [
    {
     "data": {
      "text/plain": [
       "type_local\n",
       "Terre Agricole                              2285910\n",
       "Maison                                      1548954\n",
       "Appartement                                 1329874\n",
       "Terrain Naturel                              952004\n",
       "Terrain à Bâtir                              314858\n",
       "Local industriel. commercial ou assimilé     285460\n",
       "Name: count, dtype: int64"
      ]
     },
     "execution_count": 13,
     "metadata": {},
     "output_type": "execute_result"
    }
   ],
   "source": [
    "df['type_local'].value_counts()"
   ]
  },
  {
   "cell_type": "code",
   "execution_count": 14,
   "metadata": {},
   "outputs": [
    {
     "data": {
      "text/plain": [
       "nature_culture_speciale\n",
       "Jardin potager    75949\n",
       "Pâture plantée    43541\n",
       "Pins              30282\n",
       "Parc              28139\n",
       "Friche            27312\n",
       "                  ...  \n",
       "Lagune                1\n",
       "Parc à huîtres        1\n",
       "Ballastière           1\n",
       "Bassin                1\n",
       "Glaisière             1\n",
       "Name: count, Length: 120, dtype: int64"
      ]
     },
     "execution_count": 14,
     "metadata": {},
     "output_type": "execute_result"
    }
   ],
   "source": [
    "df['nature_culture_speciale'].value_counts()"
   ]
  },
  {
   "cell_type": "code",
   "execution_count": 15,
   "metadata": {},
   "outputs": [
    {
     "data": {
      "text/plain": [
       "nature_culture_speciale\n",
       "Jardin potager    75949\n",
       "Pâture plantée    43541\n",
       "Pins              30282\n",
       "Parc              28139\n",
       "Friche            27312\n",
       "                  ...  \n",
       "Lagune                1\n",
       "Parc à huîtres        1\n",
       "Ballastière           1\n",
       "Bassin                1\n",
       "Glaisière             1\n",
       "Name: count, Length: 120, dtype: int64"
      ]
     },
     "execution_count": 15,
     "metadata": {},
     "output_type": "execute_result"
    }
   ],
   "source": [
    "df['nature_culture_speciale'].value_counts()"
   ]
  }
 ],
 "metadata": {
  "kernelspec": {
   "display_name": "base",
   "language": "python",
   "name": "python3"
  },
  "language_info": {
   "codemirror_mode": {
    "name": "ipython",
    "version": 3
   },
   "file_extension": ".py",
   "mimetype": "text/x-python",
   "name": "python",
   "nbconvert_exporter": "python",
   "pygments_lexer": "ipython3",
   "version": "3.12.3"
  }
 },
 "nbformat": 4,
 "nbformat_minor": 2
}
